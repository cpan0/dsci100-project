{
 "cells": [
  {
   "cell_type": "code",
   "execution_count": 13,
   "metadata": {},
   "outputs": [],
   "source": [
    "library(tidyverse)\n",
    "library(repr)\n",
    "library(tidymodels)"
   ]
  },
  {
   "cell_type": "code",
   "execution_count": 19,
   "metadata": {},
   "outputs": [
    {
     "name": "stderr",
     "output_type": "stream",
     "text": [
      "Parsed with column specification:\n",
      "cols(\n",
      "  carat = \u001b[32mcol_double()\u001b[39m,\n",
      "  cut = \u001b[31mcol_character()\u001b[39m,\n",
      "  color = \u001b[31mcol_character()\u001b[39m,\n",
      "  clarity = \u001b[31mcol_character()\u001b[39m,\n",
      "  depth = \u001b[32mcol_double()\u001b[39m,\n",
      "  table = \u001b[32mcol_double()\u001b[39m,\n",
      "  x = \u001b[32mcol_double()\u001b[39m,\n",
      "  y = \u001b[32mcol_double()\u001b[39m,\n",
      "  z = \u001b[32mcol_double()\u001b[39m,\n",
      "  price = \u001b[32mcol_double()\u001b[39m\n",
      ")\n",
      "\n"
     ]
    },
    {
     "data": {
      "text/html": [
       "<table>\n",
       "<caption>A spec_tbl_df: 53940 × 10</caption>\n",
       "<thead>\n",
       "\t<tr><th scope=col>carat</th><th scope=col>cut</th><th scope=col>color</th><th scope=col>clarity</th><th scope=col>depth</th><th scope=col>table</th><th scope=col>x</th><th scope=col>y</th><th scope=col>z</th><th scope=col>price</th></tr>\n",
       "\t<tr><th scope=col>&lt;dbl&gt;</th><th scope=col>&lt;chr&gt;</th><th scope=col>&lt;chr&gt;</th><th scope=col>&lt;chr&gt;</th><th scope=col>&lt;dbl&gt;</th><th scope=col>&lt;dbl&gt;</th><th scope=col>&lt;dbl&gt;</th><th scope=col>&lt;dbl&gt;</th><th scope=col>&lt;dbl&gt;</th><th scope=col>&lt;dbl&gt;</th></tr>\n",
       "</thead>\n",
       "<tbody>\n",
       "\t<tr><td>0.23</td><td>Ideal  </td><td>E</td><td>SI2</td><td>61.5</td><td>55</td><td>3.95</td><td>3.98</td><td>2.43</td><td>326</td></tr>\n",
       "\t<tr><td>0.21</td><td>Premium</td><td>E</td><td>SI1</td><td>59.8</td><td>61</td><td>3.89</td><td>3.84</td><td>2.31</td><td>326</td></tr>\n",
       "\t<tr><td>0.23</td><td>Good   </td><td>E</td><td>VS1</td><td>56.9</td><td>65</td><td>4.05</td><td>4.07</td><td>2.31</td><td>327</td></tr>\n",
       "\t<tr><td>⋮</td><td>⋮</td><td>⋮</td><td>⋮</td><td>⋮</td><td>⋮</td><td>⋮</td><td>⋮</td><td>⋮</td><td>⋮</td></tr>\n",
       "\t<tr><td>0.70</td><td>Very Good</td><td>D</td><td>SI1</td><td>62.8</td><td>60</td><td>5.66</td><td>5.68</td><td>3.56</td><td>2757</td></tr>\n",
       "\t<tr><td>0.86</td><td>Premium  </td><td>H</td><td>SI2</td><td>61.0</td><td>58</td><td>6.15</td><td>6.12</td><td>3.74</td><td>2757</td></tr>\n",
       "\t<tr><td>0.75</td><td>Ideal    </td><td>D</td><td>SI2</td><td>62.2</td><td>55</td><td>5.83</td><td>5.87</td><td>3.64</td><td>2757</td></tr>\n",
       "</tbody>\n",
       "</table>\n"
      ],
      "text/latex": [
       "A spec\\_tbl\\_df: 53940 × 10\n",
       "\\begin{tabular}{llllllllll}\n",
       " carat & cut & color & clarity & depth & table & x & y & z & price\\\\\n",
       " <dbl> & <chr> & <chr> & <chr> & <dbl> & <dbl> & <dbl> & <dbl> & <dbl> & <dbl>\\\\\n",
       "\\hline\n",
       "\t 0.23 & Ideal   & E & SI2 & 61.5 & 55 & 3.95 & 3.98 & 2.43 & 326\\\\\n",
       "\t 0.21 & Premium & E & SI1 & 59.8 & 61 & 3.89 & 3.84 & 2.31 & 326\\\\\n",
       "\t 0.23 & Good    & E & VS1 & 56.9 & 65 & 4.05 & 4.07 & 2.31 & 327\\\\\n",
       "\t ⋮ & ⋮ & ⋮ & ⋮ & ⋮ & ⋮ & ⋮ & ⋮ & ⋮ & ⋮\\\\\n",
       "\t 0.70 & Very Good & D & SI1 & 62.8 & 60 & 5.66 & 5.68 & 3.56 & 2757\\\\\n",
       "\t 0.86 & Premium   & H & SI2 & 61.0 & 58 & 6.15 & 6.12 & 3.74 & 2757\\\\\n",
       "\t 0.75 & Ideal     & D & SI2 & 62.2 & 55 & 5.83 & 5.87 & 3.64 & 2757\\\\\n",
       "\\end{tabular}\n"
      ],
      "text/markdown": [
       "\n",
       "A spec_tbl_df: 53940 × 10\n",
       "\n",
       "| carat &lt;dbl&gt; | cut &lt;chr&gt; | color &lt;chr&gt; | clarity &lt;chr&gt; | depth &lt;dbl&gt; | table &lt;dbl&gt; | x &lt;dbl&gt; | y &lt;dbl&gt; | z &lt;dbl&gt; | price &lt;dbl&gt; |\n",
       "|---|---|---|---|---|---|---|---|---|---|\n",
       "| 0.23 | Ideal   | E | SI2 | 61.5 | 55 | 3.95 | 3.98 | 2.43 | 326 |\n",
       "| 0.21 | Premium | E | SI1 | 59.8 | 61 | 3.89 | 3.84 | 2.31 | 326 |\n",
       "| 0.23 | Good    | E | VS1 | 56.9 | 65 | 4.05 | 4.07 | 2.31 | 327 |\n",
       "| ⋮ | ⋮ | ⋮ | ⋮ | ⋮ | ⋮ | ⋮ | ⋮ | ⋮ | ⋮ |\n",
       "| 0.70 | Very Good | D | SI1 | 62.8 | 60 | 5.66 | 5.68 | 3.56 | 2757 |\n",
       "| 0.86 | Premium   | H | SI2 | 61.0 | 58 | 6.15 | 6.12 | 3.74 | 2757 |\n",
       "| 0.75 | Ideal     | D | SI2 | 62.2 | 55 | 5.83 | 5.87 | 3.64 | 2757 |\n",
       "\n"
      ],
      "text/plain": [
       "      carat cut       color clarity depth table x    y    z    price\n",
       "1     0.23  Ideal     E     SI2     61.5  55    3.95 3.98 2.43 326  \n",
       "2     0.21  Premium   E     SI1     59.8  61    3.89 3.84 2.31 326  \n",
       "3     0.23  Good      E     VS1     56.9  65    4.05 4.07 2.31 327  \n",
       "⋮     ⋮     ⋮         ⋮     ⋮       ⋮     ⋮     ⋮    ⋮    ⋮    ⋮    \n",
       "53938 0.70  Very Good D     SI1     62.8  60    5.66 5.68 3.56 2757 \n",
       "53939 0.86  Premium   H     SI2     61.0  58    6.15 6.12 3.74 2757 \n",
       "53940 0.75  Ideal     D     SI2     62.2  55    5.83 5.87 3.64 2757 "
      ]
     },
     "metadata": {},
     "output_type": "display_data"
    }
   ],
   "source": [
    "url <- \"https://raw.githubusercontent.com/cpan0/project_proposal/main/diamonds.csv\"\n",
    "diamonds <- read_csv(url)\n",
    "diamonds"
   ]
  },
  {
   "cell_type": "code",
   "execution_count": null,
   "metadata": {},
   "outputs": [],
   "source": []
  }
 ],
 "metadata": {
  "kernelspec": {
   "display_name": "R",
   "language": "R",
   "name": "ir"
  },
  "language_info": {
   "codemirror_mode": "r",
   "file_extension": ".r",
   "mimetype": "text/x-r-source",
   "name": "R",
   "pygments_lexer": "r",
   "version": "4.0.0"
  }
 },
 "nbformat": 4,
 "nbformat_minor": 4
}
