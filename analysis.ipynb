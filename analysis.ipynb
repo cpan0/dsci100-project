{
 "cells": [
  {
   "cell_type": "code",
   "execution_count": 1,
   "metadata": {},
   "outputs": [
    {
     "name": "stderr",
     "output_type": "stream",
     "text": [
      "── \u001b[1mAttaching packages\u001b[22m ─────────────────────────────────────── tidyverse 1.3.0 ──\n",
      "\n",
      "\u001b[32m✔\u001b[39m \u001b[34mggplot2\u001b[39m 3.3.2     \u001b[32m✔\u001b[39m \u001b[34mpurrr  \u001b[39m 0.3.4\n",
      "\u001b[32m✔\u001b[39m \u001b[34mtibble \u001b[39m 3.0.3     \u001b[32m✔\u001b[39m \u001b[34mdplyr  \u001b[39m 1.0.2\n",
      "\u001b[32m✔\u001b[39m \u001b[34mtidyr  \u001b[39m 1.1.2     \u001b[32m✔\u001b[39m \u001b[34mstringr\u001b[39m 1.4.0\n",
      "\u001b[32m✔\u001b[39m \u001b[34mreadr  \u001b[39m 1.3.1     \u001b[32m✔\u001b[39m \u001b[34mforcats\u001b[39m 0.5.0\n",
      "\n",
      "Warning message:\n",
      "“package ‘ggplot2’ was built under R version 4.0.1”\n",
      "Warning message:\n",
      "“package ‘tibble’ was built under R version 4.0.2”\n",
      "Warning message:\n",
      "“package ‘tidyr’ was built under R version 4.0.2”\n",
      "Warning message:\n",
      "“package ‘dplyr’ was built under R version 4.0.2”\n",
      "── \u001b[1mConflicts\u001b[22m ────────────────────────────────────────── tidyverse_conflicts() ──\n",
      "\u001b[31m✖\u001b[39m \u001b[34mdplyr\u001b[39m::\u001b[32mfilter()\u001b[39m masks \u001b[34mstats\u001b[39m::filter()\n",
      "\u001b[31m✖\u001b[39m \u001b[34mdplyr\u001b[39m::\u001b[32mlag()\u001b[39m    masks \u001b[34mstats\u001b[39m::lag()\n",
      "\n",
      "Warning message:\n",
      "“package ‘tidymodels’ was built under R version 4.0.2”\n",
      "── \u001b[1mAttaching packages\u001b[22m ────────────────────────────────────── tidymodels 0.1.1 ──\n",
      "\n",
      "\u001b[32m✔\u001b[39m \u001b[34mbroom    \u001b[39m 0.7.0      \u001b[32m✔\u001b[39m \u001b[34mrecipes  \u001b[39m 0.1.13\n",
      "\u001b[32m✔\u001b[39m \u001b[34mdials    \u001b[39m 0.0.9      \u001b[32m✔\u001b[39m \u001b[34mrsample  \u001b[39m 0.0.7 \n",
      "\u001b[32m✔\u001b[39m \u001b[34minfer    \u001b[39m 0.5.4      \u001b[32m✔\u001b[39m \u001b[34mtune     \u001b[39m 0.1.1 \n",
      "\u001b[32m✔\u001b[39m \u001b[34mmodeldata\u001b[39m 0.0.2      \u001b[32m✔\u001b[39m \u001b[34mworkflows\u001b[39m 0.2.0 \n",
      "\u001b[32m✔\u001b[39m \u001b[34mparsnip  \u001b[39m 0.1.3      \u001b[32m✔\u001b[39m \u001b[34myardstick\u001b[39m 0.0.7 \n",
      "\n",
      "Warning message:\n",
      "“package ‘broom’ was built under R version 4.0.2”\n",
      "Warning message:\n",
      "“package ‘dials’ was built under R version 4.0.2”\n",
      "Warning message:\n",
      "“package ‘infer’ was built under R version 4.0.3”\n",
      "Warning message:\n",
      "“package ‘modeldata’ was built under R version 4.0.1”\n",
      "Warning message:\n",
      "“package ‘parsnip’ was built under R version 4.0.2”\n",
      "Warning message:\n",
      "“package ‘recipes’ was built under R version 4.0.1”\n",
      "Warning message:\n",
      "“package ‘tune’ was built under R version 4.0.2”\n",
      "Warning message:\n",
      "“package ‘workflows’ was built under R version 4.0.2”\n",
      "Warning message:\n",
      "“package ‘yardstick’ was built under R version 4.0.2”\n",
      "── \u001b[1mConflicts\u001b[22m ───────────────────────────────────────── tidymodels_conflicts() ──\n",
      "\u001b[31m✖\u001b[39m \u001b[34mscales\u001b[39m::\u001b[32mdiscard()\u001b[39m masks \u001b[34mpurrr\u001b[39m::discard()\n",
      "\u001b[31m✖\u001b[39m \u001b[34mdplyr\u001b[39m::\u001b[32mfilter()\u001b[39m   masks \u001b[34mstats\u001b[39m::filter()\n",
      "\u001b[31m✖\u001b[39m \u001b[34mrecipes\u001b[39m::\u001b[32mfixed()\u001b[39m  masks \u001b[34mstringr\u001b[39m::fixed()\n",
      "\u001b[31m✖\u001b[39m \u001b[34mdplyr\u001b[39m::\u001b[32mlag()\u001b[39m      masks \u001b[34mstats\u001b[39m::lag()\n",
      "\u001b[31m✖\u001b[39m \u001b[34myardstick\u001b[39m::\u001b[32mspec()\u001b[39m masks \u001b[34mreadr\u001b[39m::spec()\n",
      "\u001b[31m✖\u001b[39m \u001b[34mrecipes\u001b[39m::\u001b[32mstep()\u001b[39m   masks \u001b[34mstats\u001b[39m::step()\n",
      "\n",
      "Warning message:\n",
      "“package ‘cowplot’ was built under R version 4.0.3”\n"
     ]
    }
   ],
   "source": [
    "# loading libraries\n",
    "library(tidyverse)\n",
    "library(repr)\n",
    "library(tidymodels)\n",
    "library(RColorBrewer)\n",
    "library(cowplot)\n",
    "options(repr.matrix.max.rows = 6)\n",
    "\n",
    "# setting the seed\n",
    "set.seed(1)"
   ]
  },
  {
   "cell_type": "code",
   "execution_count": 2,
   "metadata": {},
   "outputs": [
    {
     "name": "stderr",
     "output_type": "stream",
     "text": [
      "Parsed with column specification:\n",
      "cols(\n",
      "  carat = \u001b[32mcol_double()\u001b[39m,\n",
      "  cut = \u001b[31mcol_character()\u001b[39m,\n",
      "  color = \u001b[31mcol_character()\u001b[39m,\n",
      "  clarity = \u001b[31mcol_character()\u001b[39m,\n",
      "  depth = \u001b[32mcol_double()\u001b[39m,\n",
      "  table = \u001b[32mcol_double()\u001b[39m,\n",
      "  x = \u001b[32mcol_double()\u001b[39m,\n",
      "  y = \u001b[32mcol_double()\u001b[39m,\n",
      "  z = \u001b[32mcol_double()\u001b[39m,\n",
      "  price = \u001b[32mcol_double()\u001b[39m\n",
      ")\n",
      "\n"
     ]
    },
    {
     "data": {
      "text/html": [
       "<table>\n",
       "<caption>A tibble: 6 × 5</caption>\n",
       "<thead>\n",
       "\t<tr><th scope=col>carat</th><th scope=col>cut</th><th scope=col>color</th><th scope=col>clarity</th><th scope=col>price</th></tr>\n",
       "\t<tr><th scope=col>&lt;dbl&gt;</th><th scope=col>&lt;fct&gt;</th><th scope=col>&lt;chr&gt;</th><th scope=col>&lt;fct&gt;</th><th scope=col>&lt;dbl&gt;</th></tr>\n",
       "</thead>\n",
       "<tbody>\n",
       "\t<tr><td>0.23</td><td>Ideal    </td><td>E</td><td>SI2 </td><td>326</td></tr>\n",
       "\t<tr><td>0.21</td><td>Premium  </td><td>E</td><td>SI1 </td><td>326</td></tr>\n",
       "\t<tr><td>0.23</td><td>Good     </td><td>E</td><td>VS1 </td><td>327</td></tr>\n",
       "\t<tr><td>0.29</td><td>Premium  </td><td>I</td><td>VS2 </td><td>334</td></tr>\n",
       "\t<tr><td>0.31</td><td>Good     </td><td>J</td><td>SI2 </td><td>335</td></tr>\n",
       "\t<tr><td>0.24</td><td>Very Good</td><td>J</td><td>VVS2</td><td>336</td></tr>\n",
       "</tbody>\n",
       "</table>\n"
      ],
      "text/latex": [
       "A tibble: 6 × 5\n",
       "\\begin{tabular}{lllll}\n",
       " carat & cut & color & clarity & price\\\\\n",
       " <dbl> & <fct> & <chr> & <fct> & <dbl>\\\\\n",
       "\\hline\n",
       "\t 0.23 & Ideal     & E & SI2  & 326\\\\\n",
       "\t 0.21 & Premium   & E & SI1  & 326\\\\\n",
       "\t 0.23 & Good      & E & VS1  & 327\\\\\n",
       "\t 0.29 & Premium   & I & VS2  & 334\\\\\n",
       "\t 0.31 & Good      & J & SI2  & 335\\\\\n",
       "\t 0.24 & Very Good & J & VVS2 & 336\\\\\n",
       "\\end{tabular}\n"
      ],
      "text/markdown": [
       "\n",
       "A tibble: 6 × 5\n",
       "\n",
       "| carat &lt;dbl&gt; | cut &lt;fct&gt; | color &lt;chr&gt; | clarity &lt;fct&gt; | price &lt;dbl&gt; |\n",
       "|---|---|---|---|---|\n",
       "| 0.23 | Ideal     | E | SI2  | 326 |\n",
       "| 0.21 | Premium   | E | SI1  | 326 |\n",
       "| 0.23 | Good      | E | VS1  | 327 |\n",
       "| 0.29 | Premium   | I | VS2  | 334 |\n",
       "| 0.31 | Good      | J | SI2  | 335 |\n",
       "| 0.24 | Very Good | J | VVS2 | 336 |\n",
       "\n"
      ],
      "text/plain": [
       "  carat cut       color clarity price\n",
       "1 0.23  Ideal     E     SI2     326  \n",
       "2 0.21  Premium   E     SI1     326  \n",
       "3 0.23  Good      E     VS1     327  \n",
       "4 0.29  Premium   I     VS2     334  \n",
       "5 0.31  Good      J     SI2     335  \n",
       "6 0.24  Very Good J     VVS2    336  "
      ]
     },
     "metadata": {},
     "output_type": "display_data"
    }
   ],
   "source": [
    "# Reading data\n",
    "url <- \"https://raw.githubusercontent.com/cpan0/project_proposal/main/diamonds.csv\"\n",
    "diamonds <- read_csv(url)\n",
    "diamonds <- diamonds %>% \n",
    "    select(carat, cut, color, clarity, price) %>%   # selecting the necessary variables/columns\n",
    "    mutate(cut = factor(cut, c(\"Ideal\", \"Premium\", \"Very Good\", \"Good\", \"Fair\")), # Relevel cut from 'Ideal' to 'Fair'\n",
    "          clarity = factor(clarity, c(\"IF\", \"VVS1\", \"VVS2\", \"VS1\", \"VS2\", \"SI1\", \"SI2\", \"I1\"))) # Relevel clarity from 'IF' (internally flawless) to 'I1' (imperfect)\n",
    "head(diamonds)"
   ]
  },
  {
   "cell_type": "code",
   "execution_count": 3,
   "metadata": {},
   "outputs": [],
   "source": [
    "# splitting data\n",
    "diamonds_split <- initial_split(diamonds, prop = 0.75, strata = price)\n",
    "diamonds_train <- training(diamonds_split)\n",
    "diamonds_test <- testing(diamonds_split) "
   ]
  },
  {
   "cell_type": "code",
   "execution_count": 4,
   "metadata": {},
   "outputs": [],
   "source": [
    "# cross-valdiation to find best K value\n",
    "\n",
    "diamonds_spec <- nearest_neighbor(weight_func = \"rectangular\", neighbors = tune()) %>%\n",
    "      set_engine(\"kknn\") %>%\n",
    "      set_mode(\"regression\") \n",
    "\n",
    "#recipe\n",
    "diamonds_recipe <- recipe(price ~ ., data = diamonds_train) %>%\n",
    "        step_scale(carat) %>%\n",
    "        step_center(carat)\n",
    "\n",
    "\n",
    "# cross validation\n",
    "diamonds_vfold <- vfold_cv(diamonds_train, v = 5, strata = price)\n",
    "diamonds_workflow <-  workflow() %>%\n",
    "    add_recipe(diamonds_recipe) %>%\n",
    "    add_model(diamonds_spec)\n",
    "\n"
   ]
  },
  {
   "cell_type": "code",
   "execution_count": 5,
   "metadata": {},
   "outputs": [],
   "source": [
    "#running cross validtion with K values from 1 to 15\n",
    "gridvals <- tibble(neighbors = seq(from = 1, to = 15, by = 1))\n",
    "diamonds_results <- diamonds_workflow %>%\n",
    "    tune_grid(resamples = diamonds_vfold, grid = gridvals) %>%\n",
    "    collect_metrics()\n"
   ]
  },
  {
   "cell_type": "code",
   "execution_count": 7,
   "metadata": {},
   "outputs": [
    {
     "data": {
      "text/html": [
       "<table>\n",
       "<caption>A tibble: 15 × 7</caption>\n",
       "<thead>\n",
       "\t<tr><th scope=col>neighbors</th><th scope=col>.metric</th><th scope=col>.estimator</th><th scope=col>mean</th><th scope=col>n</th><th scope=col>std_err</th><th scope=col>.config</th></tr>\n",
       "\t<tr><th scope=col>&lt;dbl&gt;</th><th scope=col>&lt;chr&gt;</th><th scope=col>&lt;chr&gt;</th><th scope=col>&lt;dbl&gt;</th><th scope=col>&lt;int&gt;</th><th scope=col>&lt;dbl&gt;</th><th scope=col>&lt;chr&gt;</th></tr>\n",
       "</thead>\n",
       "<tbody>\n",
       "\t<tr><td>4</td><td>rmse</td><td>standard</td><td>712.5640</td><td>5</td><td>9.006696</td><td>Model04</td></tr>\n",
       "\t<tr><td>5</td><td>rmse</td><td>standard</td><td>715.2674</td><td>5</td><td>9.473132</td><td>Model05</td></tr>\n",
       "\t<tr><td>3</td><td>rmse</td><td>standard</td><td>722.7706</td><td>5</td><td>7.687425</td><td>Model03</td></tr>\n",
       "\t<tr><td>⋮</td><td>⋮</td><td>⋮</td><td>⋮</td><td>⋮</td><td>⋮</td><td>⋮</td></tr>\n",
       "\t<tr><td>13</td><td>rmse</td><td>standard</td><td>844.7782</td><td>5</td><td>15.09105</td><td>Model13</td></tr>\n",
       "\t<tr><td>14</td><td>rmse</td><td>standard</td><td>860.7857</td><td>5</td><td>14.82979</td><td>Model14</td></tr>\n",
       "\t<tr><td>15</td><td>rmse</td><td>standard</td><td>875.8288</td><td>5</td><td>14.55393</td><td>Model15</td></tr>\n",
       "</tbody>\n",
       "</table>\n"
      ],
      "text/latex": [
       "A tibble: 15 × 7\n",
       "\\begin{tabular}{lllllll}\n",
       " neighbors & .metric & .estimator & mean & n & std\\_err & .config\\\\\n",
       " <dbl> & <chr> & <chr> & <dbl> & <int> & <dbl> & <chr>\\\\\n",
       "\\hline\n",
       "\t 4 & rmse & standard & 712.5640 & 5 & 9.006696 & Model04\\\\\n",
       "\t 5 & rmse & standard & 715.2674 & 5 & 9.473132 & Model05\\\\\n",
       "\t 3 & rmse & standard & 722.7706 & 5 & 7.687425 & Model03\\\\\n",
       "\t ⋮ & ⋮ & ⋮ & ⋮ & ⋮ & ⋮ & ⋮\\\\\n",
       "\t 13 & rmse & standard & 844.7782 & 5 & 15.09105 & Model13\\\\\n",
       "\t 14 & rmse & standard & 860.7857 & 5 & 14.82979 & Model14\\\\\n",
       "\t 15 & rmse & standard & 875.8288 & 5 & 14.55393 & Model15\\\\\n",
       "\\end{tabular}\n"
      ],
      "text/markdown": [
       "\n",
       "A tibble: 15 × 7\n",
       "\n",
       "| neighbors &lt;dbl&gt; | .metric &lt;chr&gt; | .estimator &lt;chr&gt; | mean &lt;dbl&gt; | n &lt;int&gt; | std_err &lt;dbl&gt; | .config &lt;chr&gt; |\n",
       "|---|---|---|---|---|---|---|\n",
       "| 4 | rmse | standard | 712.5640 | 5 | 9.006696 | Model04 |\n",
       "| 5 | rmse | standard | 715.2674 | 5 | 9.473132 | Model05 |\n",
       "| 3 | rmse | standard | 722.7706 | 5 | 7.687425 | Model03 |\n",
       "| ⋮ | ⋮ | ⋮ | ⋮ | ⋮ | ⋮ | ⋮ |\n",
       "| 13 | rmse | standard | 844.7782 | 5 | 15.09105 | Model13 |\n",
       "| 14 | rmse | standard | 860.7857 | 5 | 14.82979 | Model14 |\n",
       "| 15 | rmse | standard | 875.8288 | 5 | 14.55393 | Model15 |\n",
       "\n"
      ],
      "text/plain": [
       "   neighbors .metric .estimator mean     n std_err  .config\n",
       "1  4         rmse    standard   712.5640 5 9.006696 Model04\n",
       "2  5         rmse    standard   715.2674 5 9.473132 Model05\n",
       "3  3         rmse    standard   722.7706 5 7.687425 Model03\n",
       "⋮  ⋮         ⋮       ⋮          ⋮        ⋮ ⋮        ⋮      \n",
       "13 13        rmse    standard   844.7782 5 15.09105 Model13\n",
       "14 14        rmse    standard   860.7857 5 14.82979 Model14\n",
       "15 15        rmse    standard   875.8288 5 14.55393 Model15"
      ]
     },
     "metadata": {},
     "output_type": "display_data"
    }
   ],
   "source": [
    "#results of cross validation\n",
    "diamonds_results <- diamonds_results %>%\n",
    "     filter(.metric == \"rmse\") %>%\n",
    "     arrange(mean)\n",
    "diamonds_results"
   ]
  },
  {
   "cell_type": "code",
   "execution_count": 9,
   "metadata": {},
   "outputs": [
    {
     "data": {
      "text/html": [
       "4"
      ],
      "text/latex": [
       "4"
      ],
      "text/markdown": [
       "4"
      ],
      "text/plain": [
       "[1] 4"
      ]
     },
     "metadata": {},
     "output_type": "display_data"
    }
   ],
   "source": [
    "#assigning the best k value\n",
    "#k_min <- 4 #uncomment this and comment code below to avoid having to run the cross-validation code for 10 minutes\n",
    "k_min <- diamonds_results %>%\n",
    "    select(neighbors) %>%\n",
    "    slice(1) %>%\n",
    "    pull()\n",
    "k_min #should be 4"
   ]
  },
  {
   "cell_type": "code",
   "execution_count": null,
   "metadata": {},
   "outputs": [],
   "source": []
  }
 ],
 "metadata": {
  "kernelspec": {
   "display_name": "R",
   "language": "R",
   "name": "ir"
  },
  "language_info": {
   "codemirror_mode": "r",
   "file_extension": ".r",
   "mimetype": "text/x-r-source",
   "name": "R",
   "pygments_lexer": "r",
   "version": "4.0.0"
  }
 },
 "nbformat": 4,
 "nbformat_minor": 4
}
