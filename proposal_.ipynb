{
 "cells": [
  {
   "cell_type": "markdown",
   "metadata": {},
   "source": [
    "# Diamonds Analysis - DSIC 100 Project Proposal\n",
    "###### Group 5: Clare Pan, Wendy Phung, Jessie Sheng, Jason Wang"
   ]
  },
  {
   "cell_type": "markdown",
   "metadata": {},
   "source": [
    "## Introduction\n",
    "Diamond is a mineral composed of pure carbon, in which each carbon atom is attached to four other carbon atoms, making the diamond a very strong structure. The hardness of diamond and its high dispersion of light make it useful for industrial applications and desirable as jewelry. Even the smallest difference between two diamonds could make one much more valuable than the other. For this reason, multiple organizations are using the “four Cs”, which are color, cut, clarity, and carat, to certify and grade diamonds. In this project, we will use a data set from Kaggle to predict the diamonds price using the four Cs."
   ]
  },
  {
   "cell_type": "markdown",
   "metadata": {},
   "source": [
    "## Preliminary exploratory data analysis"
   ]
  },
  {
   "cell_type": "markdown",
   "metadata": {},
   "source": [
    "#### Loading the libraries"
   ]
  },
  {
   "cell_type": "code",
   "execution_count": 38,
   "metadata": {},
   "outputs": [],
   "source": [
    "library(tidyverse)\n",
    "library(repr)\n",
    "library(tidymodels)\n",
    "library(RColorBrewer)\n",
    "library(cowplot)"
   ]
  },
  {
   "cell_type": "markdown",
   "metadata": {},
   "source": [
    "#### Reading dataset from web into R"
   ]
  },
  {
   "cell_type": "code",
   "execution_count": 39,
   "metadata": {},
   "outputs": [
    {
     "name": "stderr",
     "output_type": "stream",
     "text": [
      "Parsed with column specification:\n",
      "cols(\n",
      "  carat = \u001b[32mcol_double()\u001b[39m,\n",
      "  cut = \u001b[31mcol_character()\u001b[39m,\n",
      "  color = \u001b[31mcol_character()\u001b[39m,\n",
      "  clarity = \u001b[31mcol_character()\u001b[39m,\n",
      "  depth = \u001b[32mcol_double()\u001b[39m,\n",
      "  table = \u001b[32mcol_double()\u001b[39m,\n",
      "  x = \u001b[32mcol_double()\u001b[39m,\n",
      "  y = \u001b[32mcol_double()\u001b[39m,\n",
      "  z = \u001b[32mcol_double()\u001b[39m,\n",
      "  price = \u001b[32mcol_double()\u001b[39m\n",
      ")\n",
      "\n"
     ]
    },
    {
     "data": {
      "text/html": [
       "<table>\n",
       "<caption>A tibble: 6 × 5</caption>\n",
       "<thead>\n",
       "\t<tr><th scope=col>carat</th><th scope=col>cut</th><th scope=col>color</th><th scope=col>clarity</th><th scope=col>price</th></tr>\n",
       "\t<tr><th scope=col>&lt;dbl&gt;</th><th scope=col>&lt;chr&gt;</th><th scope=col>&lt;chr&gt;</th><th scope=col>&lt;chr&gt;</th><th scope=col>&lt;dbl&gt;</th></tr>\n",
       "</thead>\n",
       "<tbody>\n",
       "\t<tr><td>0.23</td><td>Ideal    </td><td>E</td><td>SI2 </td><td>326</td></tr>\n",
       "\t<tr><td>0.21</td><td>Premium  </td><td>E</td><td>SI1 </td><td>326</td></tr>\n",
       "\t<tr><td>0.23</td><td>Good     </td><td>E</td><td>VS1 </td><td>327</td></tr>\n",
       "\t<tr><td>0.29</td><td>Premium  </td><td>I</td><td>VS2 </td><td>334</td></tr>\n",
       "\t<tr><td>0.31</td><td>Good     </td><td>J</td><td>SI2 </td><td>335</td></tr>\n",
       "\t<tr><td>0.24</td><td>Very Good</td><td>J</td><td>VVS2</td><td>336</td></tr>\n",
       "</tbody>\n",
       "</table>\n"
      ],
      "text/latex": [
       "A tibble: 6 × 5\n",
       "\\begin{tabular}{lllll}\n",
       " carat & cut & color & clarity & price\\\\\n",
       " <dbl> & <chr> & <chr> & <chr> & <dbl>\\\\\n",
       "\\hline\n",
       "\t 0.23 & Ideal     & E & SI2  & 326\\\\\n",
       "\t 0.21 & Premium   & E & SI1  & 326\\\\\n",
       "\t 0.23 & Good      & E & VS1  & 327\\\\\n",
       "\t 0.29 & Premium   & I & VS2  & 334\\\\\n",
       "\t 0.31 & Good      & J & SI2  & 335\\\\\n",
       "\t 0.24 & Very Good & J & VVS2 & 336\\\\\n",
       "\\end{tabular}\n"
      ],
      "text/markdown": [
       "\n",
       "A tibble: 6 × 5\n",
       "\n",
       "| carat &lt;dbl&gt; | cut &lt;chr&gt; | color &lt;chr&gt; | clarity &lt;chr&gt; | price &lt;dbl&gt; |\n",
       "|---|---|---|---|---|\n",
       "| 0.23 | Ideal     | E | SI2  | 326 |\n",
       "| 0.21 | Premium   | E | SI1  | 326 |\n",
       "| 0.23 | Good      | E | VS1  | 327 |\n",
       "| 0.29 | Premium   | I | VS2  | 334 |\n",
       "| 0.31 | Good      | J | SI2  | 335 |\n",
       "| 0.24 | Very Good | J | VVS2 | 336 |\n",
       "\n"
      ],
      "text/plain": [
       "  carat cut       color clarity price\n",
       "1 0.23  Ideal     E     SI2     326  \n",
       "2 0.21  Premium   E     SI1     326  \n",
       "3 0.23  Good      E     VS1     327  \n",
       "4 0.29  Premium   I     VS2     334  \n",
       "5 0.31  Good      J     SI2     335  \n",
       "6 0.24  Very Good J     VVS2    336  "
      ]
     },
     "metadata": {},
     "output_type": "display_data"
    }
   ],
   "source": [
    "url <- \"https://raw.githubusercontent.com/cpan0/project_proposal/main/diamonds.csv\"\n",
    "diamonds <- read_csv(url)\n",
    "diamonds <- diamonds %>% \n",
    "    select(carat, cut, color, clarity, price)   # selecting the necessary variables/columns\n",
    "head(diamonds)"
   ]
  },
  {
   "cell_type": "code",
   "execution_count": 39,
   "metadata": {},
   "outputs": [
    {
     "name": "stderr",
     "output_type": "stream",
     "text": [
      "Parsed with column specification:\n",
      "cols(\n",
      "  carat = \u001b[32mcol_double()\u001b[39m,\n",
      "  cut = \u001b[31mcol_character()\u001b[39m,\n",
      "  color = \u001b[31mcol_character()\u001b[39m,\n",
      "  clarity = \u001b[31mcol_character()\u001b[39m,\n",
      "  depth = \u001b[32mcol_double()\u001b[39m,\n",
      "  table = \u001b[32mcol_double()\u001b[39m,\n",
      "  x = \u001b[32mcol_double()\u001b[39m,\n",
      "  y = \u001b[32mcol_double()\u001b[39m,\n",
      "  z = \u001b[32mcol_double()\u001b[39m,\n",
      "  price = \u001b[32mcol_double()\u001b[39m\n",
      ")\n",
      "\n"
     ]
    },
    {
     "data": {
      "text/html": [
       "<table>\n",
       "<caption>A tibble: 6 × 5</caption>\n",
       "<thead>\n",
       "\t<tr><th scope=col>carat</th><th scope=col>cut</th><th scope=col>color</th><th scope=col>clarity</th><th scope=col>price</th></tr>\n",
       "\t<tr><th scope=col>&lt;dbl&gt;</th><th scope=col>&lt;chr&gt;</th><th scope=col>&lt;chr&gt;</th><th scope=col>&lt;chr&gt;</th><th scope=col>&lt;dbl&gt;</th></tr>\n",
       "</thead>\n",
       "<tbody>\n",
       "\t<tr><td>0.23</td><td>Ideal    </td><td>E</td><td>SI2 </td><td>326</td></tr>\n",
       "\t<tr><td>0.21</td><td>Premium  </td><td>E</td><td>SI1 </td><td>326</td></tr>\n",
       "\t<tr><td>0.23</td><td>Good     </td><td>E</td><td>VS1 </td><td>327</td></tr>\n",
       "\t<tr><td>0.29</td><td>Premium  </td><td>I</td><td>VS2 </td><td>334</td></tr>\n",
       "\t<tr><td>0.31</td><td>Good     </td><td>J</td><td>SI2 </td><td>335</td></tr>\n",
       "\t<tr><td>0.24</td><td>Very Good</td><td>J</td><td>VVS2</td><td>336</td></tr>\n",
       "</tbody>\n",
       "</table>\n"
      ],
      "text/latex": [
       "A tibble: 6 × 5\n",
       "\\begin{tabular}{lllll}\n",
       " carat & cut & color & clarity & price\\\\\n",
       " <dbl> & <chr> & <chr> & <chr> & <dbl>\\\\\n",
       "\\hline\n",
       "\t 0.23 & Ideal     & E & SI2  & 326\\\\\n",
       "\t 0.21 & Premium   & E & SI1  & 326\\\\\n",
       "\t 0.23 & Good      & E & VS1  & 327\\\\\n",
       "\t 0.29 & Premium   & I & VS2  & 334\\\\\n",
       "\t 0.31 & Good      & J & SI2  & 335\\\\\n",
       "\t 0.24 & Very Good & J & VVS2 & 336\\\\\n",
       "\\end{tabular}\n"
      ],
      "text/markdown": [
       "\n",
       "A tibble: 6 × 5\n",
       "\n",
       "| carat &lt;dbl&gt; | cut &lt;chr&gt; | color &lt;chr&gt; | clarity &lt;chr&gt; | price &lt;dbl&gt; |\n",
       "|---|---|---|---|---|\n",
       "| 0.23 | Ideal     | E | SI2  | 326 |\n",
       "| 0.21 | Premium   | E | SI1  | 326 |\n",
       "| 0.23 | Good      | E | VS1  | 327 |\n",
       "| 0.29 | Premium   | I | VS2  | 334 |\n",
       "| 0.31 | Good      | J | SI2  | 335 |\n",
       "| 0.24 | Very Good | J | VVS2 | 336 |\n",
       "\n"
      ],
      "text/plain": [
       "  carat cut       color clarity price\n",
       "1 0.23  Ideal     E     SI2     326  \n",
       "2 0.21  Premium   E     SI1     326  \n",
       "3 0.23  Good      E     VS1     327  \n",
       "4 0.29  Premium   I     VS2     334  \n",
       "5 0.31  Good      J     SI2     335  \n",
       "6 0.24  Very Good J     VVS2    336  "
      ]
     },
     "metadata": {},
     "output_type": "display_data"
    }
   ],
   "source": [
    "url <- \"https://raw.githubusercontent.com/cpan0/project_proposal/main/diamonds.csv\"\n",
    "diamonds <- read_csv(url)\n",
    "diamonds <- diamonds %>% \n",
    "    select(carat, cut, color, clarity, price)   # selecting the necessary variables/columns\n",
    "head(diamonds)"
   ]
  },
  {
   "cell_type": "markdown",
   "metadata": {},
   "source": [
    "#### Splitting the dataset into training (75%) and testing (25%) datasets based on cut"
   ]
  },
  {
   "cell_type": "code",
   "execution_count": 40,
   "metadata": {},
   "outputs": [
    {
     "name": "stdout",
     "output_type": "stream",
     "text": [
      "Rows: 40,456\n",
      "Columns: 5\n",
      "$ carat   \u001b[3m\u001b[90m<dbl>\u001b[39m\u001b[23m 0.23, 0.23, 0.31, 0.24, 0.24, 0.26, 0.22, 0.23, 0.23, 0.31, 0…\n",
      "$ cut     \u001b[3m\u001b[90m<chr>\u001b[39m\u001b[23m \"Ideal\", \"Good\", \"Good\", \"Very Good\", \"Very Good\", \"Very Good…\n",
      "$ color   \u001b[3m\u001b[90m<chr>\u001b[39m\u001b[23m \"E\", \"E\", \"J\", \"J\", \"I\", \"H\", \"E\", \"H\", \"J\", \"J\", \"E\", \"E\", \"…\n",
      "$ clarity \u001b[3m\u001b[90m<chr>\u001b[39m\u001b[23m \"SI2\", \"VS1\", \"SI2\", \"VVS2\", \"VVS1\", \"SI1\", \"VS2\", \"VS1\", \"VS…\n",
      "$ price   \u001b[3m\u001b[90m<dbl>\u001b[39m\u001b[23m 326, 327, 335, 336, 336, 337, 337, 338, 340, 344, 345, 345, 3…\n",
      "Rows: 13,484\n",
      "Columns: 5\n",
      "$ carat   \u001b[3m\u001b[90m<dbl>\u001b[39m\u001b[23m 0.21, 0.29, 0.30, 0.22, 0.23, 0.23, 0.23, 0.23, 0.26, 0.32, 0…\n",
      "$ cut     \u001b[3m\u001b[90m<chr>\u001b[39m\u001b[23m \"Premium\", \"Premium\", \"Good\", \"Premium\", \"Very Good\", \"Very G…\n",
      "$ color   \u001b[3m\u001b[90m<chr>\u001b[39m\u001b[23m \"E\", \"I\", \"J\", \"F\", \"F\", \"F\", \"F\", \"D\", \"D\", \"H\", \"F\", \"I\", \"…\n",
      "$ clarity \u001b[3m\u001b[90m<chr>\u001b[39m\u001b[23m \"SI1\", \"VS2\", \"SI1\", \"SI1\", \"VS1\", \"VS1\", \"VS1\", \"VS1\", \"VS2\"…\n",
      "$ price   \u001b[3m\u001b[90m<dbl>\u001b[39m\u001b[23m 326, 334, 339, 342, 357, 402, 402, 402, 403, 403, 404, 405, 5…\n"
     ]
    }
   ],
   "source": [
    "set.seed(1)\n",
    "\n",
    "diamonds_split <- initial_split(diamonds, prop = 0.75, strata = cut)\n",
    "diamonds_train <- training(diamonds_split)\n",
    "diamonds_test <- testing(diamonds_split) \n",
    "\n",
    "glimpse(diamonds_train)\n",
    "glimpse(diamonds_test)"
   ]
  },
  {
   "cell_type": "markdown",
   "metadata": {},
   "source": [
    "#### Exploratory data analysis (summary)"
   ]
  },
  {
   "cell_type": "markdown",
   "metadata": {},
   "source": [
    "##### Range, mean and standard deviation of diamond carat in the training data"
   ]
  },
  {
   "cell_type": "code",
   "execution_count": 41,
   "metadata": {},
   "outputs": [
    {
     "data": {
      "text/html": [
       "<table>\n",
       "<caption>A tibble: 1 × 4</caption>\n",
       "<thead>\n",
       "\t<tr><th scope=col>min_carat</th><th scope=col>max_carat</th><th scope=col>mean_carat</th><th scope=col>sd_carat</th></tr>\n",
       "\t<tr><th scope=col>&lt;dbl&gt;</th><th scope=col>&lt;dbl&gt;</th><th scope=col>&lt;dbl&gt;</th><th scope=col>&lt;dbl&gt;</th></tr>\n",
       "</thead>\n",
       "<tbody>\n",
       "\t<tr><td>0.2</td><td>4.5</td><td>0.7958088</td><td>0.4728762</td></tr>\n",
       "</tbody>\n",
       "</table>\n"
      ],
      "text/latex": [
       "A tibble: 1 × 4\n",
       "\\begin{tabular}{llll}\n",
       " min\\_carat & max\\_carat & mean\\_carat & sd\\_carat\\\\\n",
       " <dbl> & <dbl> & <dbl> & <dbl>\\\\\n",
       "\\hline\n",
       "\t 0.2 & 4.5 & 0.7958088 & 0.4728762\\\\\n",
       "\\end{tabular}\n"
      ],
      "text/markdown": [
       "\n",
       "A tibble: 1 × 4\n",
       "\n",
       "| min_carat &lt;dbl&gt; | max_carat &lt;dbl&gt; | mean_carat &lt;dbl&gt; | sd_carat &lt;dbl&gt; |\n",
       "|---|---|---|---|\n",
       "| 0.2 | 4.5 | 0.7958088 | 0.4728762 |\n",
       "\n"
      ],
      "text/plain": [
       "  min_carat max_carat mean_carat sd_carat \n",
       "1 0.2       4.5       0.7958088  0.4728762"
      ]
     },
     "metadata": {},
     "output_type": "display_data"
    }
   ],
   "source": [
    "diamonds_carat_min_max <- diamonds_train %>% \n",
    "    summarize(min_carat = min(carat),\n",
    "             max_carat = max(carat),\n",
    "             mean_carat = mean(carat),\n",
    "             sd_carat = sd(carat))\n",
    "diamonds_carat_min_max"
   ]
  },
  {
   "cell_type": "markdown",
   "metadata": {},
   "source": [
    "##### Number of each cuts in the training data"
   ]
  }
 ],
 "metadata": {
  "kernelspec": {
   "display_name": "R",
   "language": "R",
   "name": "ir"
  },
  "language_info": {
   "codemirror_mode": "r",
   "file_extension": ".r",
   "mimetype": "text/x-r-source",
   "name": "R",
   "pygments_lexer": "r",
   "version": "4.0.0"
  }
 },
 "nbformat": 4,
 "nbformat_minor": 4
}
